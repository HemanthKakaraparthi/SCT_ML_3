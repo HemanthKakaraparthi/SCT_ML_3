{
 "cells": [
  {
   "cell_type": "code",
   "execution_count": null,
   "id": "77963e1a-e9c3-4bb0-b7f4-95917043274c",
   "metadata": {},
   "outputs": [],
   "source": [
    "import os\n",
    "import zipfile\n",
    "import cv2\n",
    "import numpy as np\n",
    "from sklearn.svm import SVC\n",
    "from sklearn.metrics import accuracy_score, classification_report\n",
    "import matplotlib.pyplot as plt"
   ]
  },
  {
   "cell_type": "code",
   "execution_count": null,
   "id": "01b56f08-db5a-4795-91f6-810303628478",
   "metadata": {},
   "outputs": [],
   "source": [
    "# Constants\n",
    "TRAIN_ZIP_PATH = 'train.zip'  # train ZIP file path\n",
    "TEST_ZIP_PATH = 'test.zip'    # test ZIP file path\n",
    "TRAIN_DIR = 'train_images'                # Directory to extract training images\n",
    "TEST_DIR = 'test_images'                  # Directory to extract testing images\n",
    "IMAGE_SIZE = (64, 64)                     # Resize all images to 64x64\n"
   ]
  },
  {
   "cell_type": "code",
   "execution_count": null,
   "id": "a36e1382-0380-492c-b561-0412a6d7885d",
   "metadata": {},
   "outputs": [],
   "source": [
    "# Step 1: Extract ZIP files\n",
    "def extract_zip(zip_path, extract_to):\n",
    "    print(f\"Extracting {zip_path}...\")\n",
    "    with zipfile.ZipFile(zip_path, 'r') as zip_ref:\n",
    "        zip_ref.extractall(extract_to)\n",
    "\n",
    "extract_zip(TRAIN_ZIP_PATH, TRAIN_DIR)\n",
    "extract_zip(TEST_ZIP_PATH, TEST_DIR)"
   ]
  },
  {
   "cell_type": "code",
   "execution_count": null,
   "id": "3265e294-fd30-4656-b928-c12afd2ba88a",
   "metadata": {},
   "outputs": [],
   "source": [
    "# Step 2: Load images and labels from directories\n",
    "def load_images_from_directory(directory):\n",
    "    images = []\n",
    "    labels = []\n",
    "    label_mapping = {}\n",
    "    label_index = 0\n",
    "\n",
    "    for label_name in os.listdir(directory):\n",
    "        label_path = os.path.join(directory, label_name)\n",
    "        if os.path.isdir(label_path):  # Ensure it's a directory\n",
    "            label_mapping[label_index] = label_name\n",
    "            for img_name in os.listdir(label_path):\n",
    "                img_path = os.path.join(label_path, img_name)\n",
    "                try:\n",
    "                    # Load and preprocess the image\n",
    "                    img = cv2.imread(img_path, cv2.IMREAD_COLOR)\n",
    "                    if img is None:\n",
    "                        raise ValueError(f\"Image {img_path} could not be loaded.\")\n",
    "                    img = cv2.resize(img, IMAGE_SIZE)\n",
    "                    img = img / 255.0  # Normalize pixel values\n",
    "                    images.append(img.flatten())  # Flatten for SVM\n",
    "                    labels.append(label_index)\n",
    "                except Exception as e:\n",
    "                    print(f\"Error loading image {img_path}: {e}\")\n",
    "            label_index += 1\n",
    "\n",
    "    return np.array(images), np.array(labels), label_mapping\n",
    "\n",
    "# Load training images and labels\n",
    "print(\"Loading training images and labels...\")\n",
    "X_train, y_train, label_mapping = load_images_from_directory(TRAIN_DIR)\n",
    "print(f\"Loaded {len(X_train)} training images.\")\n",
    "\n",
    "# Load testing images and labels\n",
    "print(\"Loading testing images and labels...\")\n",
    "X_test, y_test, _ = load_images_from_directory(TEST_DIR)\n",
    "print(f\"Loaded {len(X_test)} testing images.\")"
   ]
  },
  {
   "cell_type": "code",
   "execution_count": null,
   "id": "48ae2ec4-1c1a-467d-8217-58080d33a8ed",
   "metadata": {},
   "outputs": [],
   "source": [
    "# Step 3: Check the shape of the data\n",
    "print(f\"X_train shape: {X_train.shape}\")\n",
    "print(f\"y_train shape: {y_train.shape}\")\n",
    "\n",
    "# Ensure the training data is properly flattened (2D array of shape [n_samples, n_features])\n",
    "if len(X_train.shape) != 2:\n",
    "    print(\"Error: X_train is not a 2D array!\")\n",
    "    exit()\n",
    "\n",
    "if len(y_train.shape) != 1:\n",
    "    print(\"Error: y_train is not a 1D array!\")\n",
    "    exit()"
   ]
  },
  {
   "cell_type": "code",
   "execution_count": null,
   "id": "d0aeddcd-3917-4008-babc-14a406e0f08c",
   "metadata": {},
   "outputs": [],
   "source": [
    "# Step 4: Print shapes before fitting the model (for debugging)\n",
    "print(f\"Shape of X_train before fitting: {X_train[:10].shape}\")\n",
    "print(f\"Shape of y_train before fitting: {y_train[:10].shape}\")"
   ]
  },
  {
   "cell_type": "code",
   "execution_count": null,
   "id": "7f376c99-63ad-4c8d-9b61-9b6f72353338",
   "metadata": {},
   "outputs": [],
   "source": [
    "# Step 5: Train the SVM model with a subset (e.g., first 10 samples)\n",
    "# Make sure to use consistent and correctly shaped data\n",
    "print(\"Training the SVM model on the first 10 samples...\")\n",
    "svm_model = SVC(kernel='linear', C=1.0)  # Linear kernel\n",
    "svm_model.fit(X_train[:10], y_train[:10])  # Train on a small subset"
   ]
  },
  {
   "cell_type": "code",
   "execution_count": null,
   "id": "d1dca641-43a1-4515-88a0-6229b82cf407",
   "metadata": {},
   "outputs": [],
   "source": [
    "# Step 6: Make predictions\n",
    "print(\"Making predictions on the test set...\")\n",
    "y_pred = svm_model.predict(X_test)"
   ]
  },
  {
   "cell_type": "code",
   "execution_count": null,
   "id": "58c41c4e-bed6-44c5-bf76-0457cf1d44e2",
   "metadata": {},
   "outputs": [],
   "source": [
    "# Step 7: Evaluate the model\n",
    "print(\"Evaluation Results:\")\n",
    "print(classification_report(y_test, y_pred, target_names=[label_mapping[i] for i in range(len(label_mapping))]))\n",
    "print(f\"Accuracy: {accuracy_score(y_test, y_pred):.2f}\")"
   ]
  },
  {
   "cell_type": "code",
   "execution_count": null,
   "id": "79065e9d-cdef-4dd9-a998-f667f2589c30",
   "metadata": {},
   "outputs": [],
   "source": [
    "# Step 8: Visualize some predictions (optional)\n",
    "plt.figure(figsize=(10, 10))\n",
    "for i in range(9):\n",
    "    plt.subplot(3, 3, i+1)\n",
    "    plt.imshow(X_test[i].reshape(IMAGE_SIZE), cmap='gray')\n",
    "    plt.title(f\"Pred: {label_mapping[y_pred[i]]}, True: {label_mapping[y_test[i]]}\")\n",
    "    plt.axis('off')\n",
    "plt.show()"
   ]
  }
 ],
 "metadata": {
  "kernelspec": {
   "display_name": "Python 3 (ipykernel)",
   "language": "python",
   "name": "python3"
  },
  "language_info": {
   "codemirror_mode": {
    "name": "ipython",
    "version": 3
   },
   "file_extension": ".py",
   "mimetype": "text/x-python",
   "name": "python",
   "nbconvert_exporter": "python",
   "pygments_lexer": "ipython3",
   "version": "3.12.4"
  }
 },
 "nbformat": 4,
 "nbformat_minor": 5
}
